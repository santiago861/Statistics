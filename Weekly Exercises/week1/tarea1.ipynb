{
 "cells": [
  {
   "cell_type": "code",
   "execution_count": 6,
   "metadata": {},
   "outputs": [],
   "source": [
    "import pandas as pd\n",
    "import numpy as np\n",
    "import matplotlib.pyplot as plt\n",
    "import seaborn as sns\n",
    "import statistics as stat"
   ]
  },
  {
   "cell_type": "code",
   "execution_count": 7,
   "metadata": {},
   "outputs": [],
   "source": [
    "dataBase1 = pd.read_csv('BD-Inmuebles.csv', encoding='latin1')\n",
    "dataBase2 = pd.read_csv('Futbol.csv', encoding='latin1')"
   ]
  },
  {
   "cell_type": "markdown",
   "metadata": {},
   "source": [
    "# BD-Inmuebles"
   ]
  },
  {
   "cell_type": "code",
   "execution_count": 8,
   "metadata": {},
   "outputs": [
    {
     "data": {
      "text/html": [
       "<div>\n",
       "<style scoped>\n",
       "    .dataframe tbody tr th:only-of-type {\n",
       "        vertical-align: middle;\n",
       "    }\n",
       "\n",
       "    .dataframe tbody tr th {\n",
       "        vertical-align: top;\n",
       "    }\n",
       "\n",
       "    .dataframe thead th {\n",
       "        text-align: right;\n",
       "    }\n",
       "</style>\n",
       "<table border=\"1\" class=\"dataframe\">\n",
       "  <thead>\n",
       "    <tr style=\"text-align: right;\">\n",
       "      <th></th>\n",
       "      <th>TipodeInmueble</th>\n",
       "      <th>Operacion</th>\n",
       "      <th>Provincia</th>\n",
       "      <th>Superficie</th>\n",
       "      <th>Precio_Venta</th>\n",
       "      <th>Fecha_Venta</th>\n",
       "      <th>Vendedor</th>\n",
       "      <th>Satisfaccion</th>\n",
       "    </tr>\n",
       "  </thead>\n",
       "  <tbody>\n",
       "    <tr>\n",
       "      <th>0</th>\n",
       "      <td>Casa</td>\n",
       "      <td>Alquiler</td>\n",
       "      <td>Girona</td>\n",
       "      <td>168.79</td>\n",
       "      <td>1754463</td>\n",
       "      <td>21/11/04</td>\n",
       "      <td>Carmen</td>\n",
       "      <td>Muy buena</td>\n",
       "    </tr>\n",
       "    <tr>\n",
       "      <th>1</th>\n",
       "      <td>Casa</td>\n",
       "      <td>Alquiler</td>\n",
       "      <td>Tarragona</td>\n",
       "      <td>148.39</td>\n",
       "      <td>1725722</td>\n",
       "      <td>08/10/04</td>\n",
       "      <td>Luisa</td>\n",
       "      <td>Muy buena</td>\n",
       "    </tr>\n",
       "    <tr>\n",
       "      <th>2</th>\n",
       "      <td>Casa</td>\n",
       "      <td>Alquiler</td>\n",
       "      <td>Girona</td>\n",
       "      <td>143.55</td>\n",
       "      <td>1427270</td>\n",
       "      <td>21/04/04</td>\n",
       "      <td>Luisa</td>\n",
       "      <td>Mala</td>\n",
       "    </tr>\n",
       "    <tr>\n",
       "      <th>3</th>\n",
       "      <td>Casa</td>\n",
       "      <td>Alquiler</td>\n",
       "      <td>Barcelona</td>\n",
       "      <td>182.58</td>\n",
       "      <td>1743532</td>\n",
       "      <td>16/06/04</td>\n",
       "      <td>Joaqun</td>\n",
       "      <td>Regular</td>\n",
       "    </tr>\n",
       "    <tr>\n",
       "      <th>4</th>\n",
       "      <td>Casa</td>\n",
       "      <td>Alquiler</td>\n",
       "      <td>Tarragona</td>\n",
       "      <td>142.47</td>\n",
       "      <td>978358</td>\n",
       "      <td>07/07/04</td>\n",
       "      <td>Luisa</td>\n",
       "      <td>Mala</td>\n",
       "    </tr>\n",
       "    <tr>\n",
       "      <th>...</th>\n",
       "      <td>...</td>\n",
       "      <td>...</td>\n",
       "      <td>...</td>\n",
       "      <td>...</td>\n",
       "      <td>...</td>\n",
       "      <td>...</td>\n",
       "      <td>...</td>\n",
       "      <td>...</td>\n",
       "    </tr>\n",
       "    <tr>\n",
       "      <th>750</th>\n",
       "      <td>Local</td>\n",
       "      <td>Alquiler</td>\n",
       "      <td>Lleida</td>\n",
       "      <td>95.10</td>\n",
       "      <td>928155</td>\n",
       "      <td>15/03/07</td>\n",
       "      <td>Joaqun</td>\n",
       "      <td>Regular</td>\n",
       "    </tr>\n",
       "    <tr>\n",
       "      <th>751</th>\n",
       "      <td>Local</td>\n",
       "      <td>Venta</td>\n",
       "      <td>Barcelona</td>\n",
       "      <td>115.99</td>\n",
       "      <td>1202425</td>\n",
       "      <td>08/03/07</td>\n",
       "      <td>Mara</td>\n",
       "      <td>Muy buena</td>\n",
       "    </tr>\n",
       "    <tr>\n",
       "      <th>752</th>\n",
       "      <td>Local</td>\n",
       "      <td>Alquiler</td>\n",
       "      <td>Tarragona</td>\n",
       "      <td>86.02</td>\n",
       "      <td>725638</td>\n",
       "      <td>18/04/07</td>\n",
       "      <td>JesÒs</td>\n",
       "      <td>Buena</td>\n",
       "    </tr>\n",
       "    <tr>\n",
       "      <th>753</th>\n",
       "      <td>Local</td>\n",
       "      <td>Alquiler</td>\n",
       "      <td>Barcelona</td>\n",
       "      <td>74.45</td>\n",
       "      <td>583172</td>\n",
       "      <td>31/03/07</td>\n",
       "      <td>Joaqun</td>\n",
       "      <td>Buena</td>\n",
       "    </tr>\n",
       "    <tr>\n",
       "      <th>754</th>\n",
       "      <td>Local</td>\n",
       "      <td>Venta</td>\n",
       "      <td>Lleida</td>\n",
       "      <td>70.55</td>\n",
       "      <td>473804</td>\n",
       "      <td>17/04/07</td>\n",
       "      <td>Carmen</td>\n",
       "      <td>Buena</td>\n",
       "    </tr>\n",
       "  </tbody>\n",
       "</table>\n",
       "<p>755 rows × 8 columns</p>\n",
       "</div>"
      ],
      "text/plain": [
       "    TipodeInmueble Operacion  Provincia  Superficie  Precio_Venta Fecha_Venta  \\\n",
       "0             Casa  Alquiler     Girona      168.79       1754463    21/11/04   \n",
       "1             Casa  Alquiler  Tarragona      148.39       1725722    08/10/04   \n",
       "2             Casa  Alquiler     Girona      143.55       1427270    21/04/04   \n",
       "3             Casa  Alquiler  Barcelona      182.58       1743532    16/06/04   \n",
       "4             Casa  Alquiler  Tarragona      142.47        978358    07/07/04   \n",
       "..             ...       ...        ...         ...           ...         ...   \n",
       "750          Local  Alquiler     Lleida       95.10        928155    15/03/07   \n",
       "751          Local     Venta  Barcelona      115.99       1202425    08/03/07   \n",
       "752          Local  Alquiler  Tarragona       86.02        725638    18/04/07   \n",
       "753          Local  Alquiler  Barcelona       74.45        583172    31/03/07   \n",
       "754          Local     Venta     Lleida       70.55        473804    17/04/07   \n",
       "\n",
       "    Vendedor Satisfaccion  \n",
       "0     Carmen    Muy buena  \n",
       "1      Luisa    Muy buena  \n",
       "2      Luisa         Mala  \n",
       "3    Joaqun     Regular   \n",
       "4      Luisa         Mala  \n",
       "..       ...          ...  \n",
       "750  Joaqun     Regular   \n",
       "751    Mara    Muy buena  \n",
       "752    JesÒs        Buena  \n",
       "753  Joaqun        Buena  \n",
       "754   Carmen        Buena  \n",
       "\n",
       "[755 rows x 8 columns]"
      ]
     },
     "execution_count": 8,
     "metadata": {},
     "output_type": "execute_result"
    }
   ],
   "source": [
    "dataBase1"
   ]
  },
  {
   "cell_type": "code",
   "execution_count": 9,
   "metadata": {},
   "outputs": [
    {
     "data": {
      "text/plain": [
       "TipodeInmueble     object\n",
       "Operacion          object\n",
       "Provincia          object\n",
       "Superficie        float64\n",
       "Precio_Venta        int64\n",
       "Fecha_Venta        object\n",
       "Vendedor           object\n",
       "Satisfaccion       object\n",
       "dtype: object"
      ]
     },
     "execution_count": 9,
     "metadata": {},
     "output_type": "execute_result"
    }
   ],
   "source": [
    "dataBase1.dtypes"
   ]
  },
  {
   "cell_type": "markdown",
   "metadata": {},
   "source": [
    "\n",
    "### 1.1 Clasificación de Variables\n",
    "\n",
    "- TipodeInmueble: Categórica & Nominal\n",
    "- Operacion: Categórica & Nominal\n",
    "- Provincia: Categórica & Nominal\n",
    "- Superficie: Numérica & De Razón\n",
    "- Precio_Venta: Numérica & De Razón\n",
    "- Fecha_Venta: Categórica & Ordinal\n",
    "- Vendedor: Categórica & Nominal\n",
    "- Satisfacción: Categórica & Ordinal"
   ]
  },
  {
   "cell_type": "markdown",
   "metadata": {},
   "source": [
    "### 1.2 Medidas de tendencia central y de dispersión de 'Superficie' correspondientes a ventas del año 2005"
   ]
  },
  {
   "cell_type": "code",
   "execution_count": 21,
   "metadata": {},
   "outputs": [
    {
     "name": "stdout",
     "output_type": "stream",
     "text": [
      "----- Medidas de tendencia Central -----\n",
      "Media: 132.60815217391303\n",
      "Median: 130.315\n",
      "Mode: 170.63\n",
      "0.76 Percentil: 169.25\n",
      "----- Medidas de Dispersión -----\n",
      "Variance: 1503.6060413003954\n",
      "Standard Deviation: 38.77635930951222\n",
      "Rango Intercuartílico: 71.0325\n",
      "Rango: 155.41000000000003\n",
      "Coeficiente de Variación: 29.241308828930652%\n"
     ]
    }
   ],
   "source": [
    "dataBase1['Fecha_Venta'] = pd.to_datetime(dataBase1['Fecha_Venta'], format='%d/%m/%y') # transformamos la columna Fecha_Venta a un formato que pandas reconoce\n",
    "añoDosMilCincoRows = dataBase1[dataBase1['Fecha_Venta'].dt.year == 2005] # filtramos Rows por año, en este caso 2005\n",
    "superficieAñoDosMilCinco = añoDosMilCincoRows['Superficie'] # obtenemos los datos de la variable superficie en los registros de ventas del año 2005\n",
    "\n",
    "# Medidas de tendencia central: [Media, Mediana, Moda, Percentíles, Decíles, Cuartíles]\n",
    "mean = np.mean(superficieAñoDosMilCinco)\n",
    "median = np.median(superficieAñoDosMilCinco)\n",
    "mode = stat.mode(superficieAñoDosMilCinco)\n",
    "# Percentil 0.76\n",
    "percentil = np.percentile(superficieAñoDosMilCinco, 76)\n",
    "\n",
    "\n",
    "# Medidas de dispersión: [Varianza Muestral, Desviación Estandar, Rango, Rango Intercuartil, Coeficiente de Variación]\n",
    "variance = stat.variance(superficieAñoDosMilCinco)\n",
    "standardDeviation = stat.stdev(superficieAñoDosMilCinco)\n",
    "\n",
    "q1 = np.percentile(superficieAñoDosMilCinco, 25)\n",
    "q3 = np.percentile(superficieAñoDosMilCinco, 75)\n",
    "iqr = q3 - q1\n",
    "\n",
    "dataRange = max(superficieAñoDosMilCinco) - min(superficieAñoDosMilCinco)\n",
    "coefficientOfVariation = (standardDeviation / mean) * 100\n",
    "\n",
    "\n",
    "\n",
    "print('----- Medidas de tendencia Central -----')\n",
    "print(f'Media: {mean}')\n",
    "print(f'Median: {median}')\n",
    "print(f'Mode: {mode}')\n",
    "print(f'0.76 Percentil: {percentil}')\n",
    "print('----- Medidas de Dispersión -----')\n",
    "print(f'Variance: {variance}')\n",
    "print(f'Standard Deviation: {standardDeviation}')\n",
    "print(f'Rango Intercuartílico: {iqr}')\n",
    "print(f'Rango: {dataRange}')\n",
    "print(f'Coeficiente de Variación: {coefficientOfVariation}%')\n"
   ]
  },
  {
   "cell_type": "markdown",
   "metadata": {},
   "source": [
    "### 1.3 Año en donde más dinero ingresó por alquiler"
   ]
  },
  {
   "cell_type": "code",
   "execution_count": 36,
   "metadata": {},
   "outputs": [
    {
     "name": "stdout",
     "output_type": "stream",
     "text": [
      "El año en el que más dinero ingresó en ventas fue el 2006, el total fue de 386537560\n"
     ]
    }
   ],
   "source": [
    "highestIncome = 0\n",
    "yearHighestIncome = ''\n",
    "años = dataBase1['Fecha_Venta'].dt.year.unique()\n",
    "añosArr = []\n",
    "\n",
    "for año in años:\n",
    "    añosArr.append(año)\n",
    "\n",
    "for año in añosArr:\n",
    "    rowsYear = dataBase1[dataBase1['Fecha_Venta'].dt.year == año]\n",
    "    totalYearIncome = sum(rowsYear['Precio_Venta'])\n",
    "    # print(f'Total en ventas del año {año}')\n",
    "    # print(sum(rowsYear['Precio_Venta']))\n",
    "    if totalYearIncome > highestIncome:\n",
    "        highestIncome = totalYearIncome\n",
    "        yearHighestIncome = año\n",
    "\n",
    "print(f'El año en el que más dinero ingresó en ventas fue el {yearHighestIncome}, el total fue de {highestIncome}')\n"
   ]
  },
  {
   "cell_type": "markdown",
   "metadata": {},
   "source": [
    "### 1.4 Boxplot por año de 'Precio-Venta'"
   ]
  },
  {
   "cell_type": "code",
   "execution_count": null,
   "metadata": {},
   "outputs": [],
   "source": []
  },
  {
   "cell_type": "markdown",
   "metadata": {},
   "source": [
    "### 1.5 Coeficiente de correlación entre 'Superficie' y 'Precio-Venta' en cada tipo de operación"
   ]
  },
  {
   "cell_type": "code",
   "execution_count": null,
   "metadata": {},
   "outputs": [],
   "source": []
  },
  {
   "cell_type": "markdown",
   "metadata": {},
   "source": [
    "# Futbol"
   ]
  },
  {
   "cell_type": "code",
   "execution_count": 11,
   "metadata": {},
   "outputs": [
    {
     "data": {
      "text/html": [
       "<div>\n",
       "<style scoped>\n",
       "    .dataframe tbody tr th:only-of-type {\n",
       "        vertical-align: middle;\n",
       "    }\n",
       "\n",
       "    .dataframe tbody tr th {\n",
       "        vertical-align: top;\n",
       "    }\n",
       "\n",
       "    .dataframe thead th {\n",
       "        text-align: right;\n",
       "    }\n",
       "</style>\n",
       "<table border=\"1\" class=\"dataframe\">\n",
       "  <thead>\n",
       "    <tr style=\"text-align: right;\">\n",
       "      <th></th>\n",
       "      <th>Any</th>\n",
       "      <th>Jornada</th>\n",
       "      <th>Partit ID</th>\n",
       "      <th>Data</th>\n",
       "      <th>Local</th>\n",
       "      <th>GL</th>\n",
       "      <th>GV</th>\n",
       "      <th>Visitant</th>\n",
       "    </tr>\n",
       "  </thead>\n",
       "  <tbody>\n",
       "    <tr>\n",
       "      <th>0</th>\n",
       "      <td>1.0</td>\n",
       "      <td>1.0</td>\n",
       "      <td>1001.0</td>\n",
       "      <td>03/09/83</td>\n",
       "      <td>R.C.D. Espanyol</td>\n",
       "      <td>1.0</td>\n",
       "      <td>4.0</td>\n",
       "      <td>At. de Madrid</td>\n",
       "    </tr>\n",
       "    <tr>\n",
       "      <th>1</th>\n",
       "      <td>1.0</td>\n",
       "      <td>1.0</td>\n",
       "      <td>1002.0</td>\n",
       "      <td>03/09/83</td>\n",
       "      <td>Real S. de GijÃ³n</td>\n",
       "      <td>1.0</td>\n",
       "      <td>1.0</td>\n",
       "      <td>Valencia C.F.</td>\n",
       "    </tr>\n",
       "    <tr>\n",
       "      <th>2</th>\n",
       "      <td>1.0</td>\n",
       "      <td>1.0</td>\n",
       "      <td>1003.0</td>\n",
       "      <td>03/09/83</td>\n",
       "      <td>Real Murcia C.F.</td>\n",
       "      <td>3.0</td>\n",
       "      <td>1.0</td>\n",
       "      <td>Real Sociedad</td>\n",
       "    </tr>\n",
       "    <tr>\n",
       "      <th>3</th>\n",
       "      <td>1.0</td>\n",
       "      <td>1.0</td>\n",
       "      <td>1004.0</td>\n",
       "      <td>04/09/83</td>\n",
       "      <td>R.C.D. Mallorca</td>\n",
       "      <td>1.0</td>\n",
       "      <td>1.0</td>\n",
       "      <td>R. Zaragoza C.D.</td>\n",
       "    </tr>\n",
       "    <tr>\n",
       "      <th>4</th>\n",
       "      <td>1.0</td>\n",
       "      <td>1.0</td>\n",
       "      <td>1005.0</td>\n",
       "      <td>04/09/83</td>\n",
       "      <td>C.At. de Osasuna</td>\n",
       "      <td>0.0</td>\n",
       "      <td>0.0</td>\n",
       "      <td>U.D. Salamanca</td>\n",
       "    </tr>\n",
       "    <tr>\n",
       "      <th>...</th>\n",
       "      <td>...</td>\n",
       "      <td>...</td>\n",
       "      <td>...</td>\n",
       "      <td>...</td>\n",
       "      <td>...</td>\n",
       "      <td>...</td>\n",
       "      <td>...</td>\n",
       "      <td>...</td>\n",
       "    </tr>\n",
       "    <tr>\n",
       "      <th>8694</th>\n",
       "      <td>23.0</td>\n",
       "      <td>38.0</td>\n",
       "      <td>23377.0</td>\n",
       "      <td>13/05/06</td>\n",
       "      <td>Villarreal C.F.</td>\n",
       "      <td>2.0</td>\n",
       "      <td>0.0</td>\n",
       "      <td>Real Racing Club</td>\n",
       "    </tr>\n",
       "    <tr>\n",
       "      <th>8695</th>\n",
       "      <td>23.0</td>\n",
       "      <td>38.0</td>\n",
       "      <td>23378.0</td>\n",
       "      <td>16/05/06</td>\n",
       "      <td>C.At. de Osasuna</td>\n",
       "      <td>2.0</td>\n",
       "      <td>1.0</td>\n",
       "      <td>Valencia C.F.</td>\n",
       "    </tr>\n",
       "    <tr>\n",
       "      <th>8696</th>\n",
       "      <td>23.0</td>\n",
       "      <td>38.0</td>\n",
       "      <td>23379.0</td>\n",
       "      <td>16/05/06</td>\n",
       "      <td>Sevilla F.C.</td>\n",
       "      <td>4.0</td>\n",
       "      <td>3.0</td>\n",
       "      <td>Real Madrid C.F.</td>\n",
       "    </tr>\n",
       "    <tr>\n",
       "      <th>8697</th>\n",
       "      <td>23.0</td>\n",
       "      <td>38.0</td>\n",
       "      <td>23380.0</td>\n",
       "      <td>20/05/06</td>\n",
       "      <td>Ath. Club Bilbao</td>\n",
       "      <td>3.0</td>\n",
       "      <td>1.0</td>\n",
       "      <td>F.C. Barcelona</td>\n",
       "    </tr>\n",
       "    <tr>\n",
       "      <th>8698</th>\n",
       "      <td>NaN</td>\n",
       "      <td>NaN</td>\n",
       "      <td>NaN</td>\n",
       "      <td>NaN</td>\n",
       "      <td>NaN</td>\n",
       "      <td>NaN</td>\n",
       "      <td>NaN</td>\n",
       "      <td>NaN</td>\n",
       "    </tr>\n",
       "  </tbody>\n",
       "</table>\n",
       "<p>8699 rows × 8 columns</p>\n",
       "</div>"
      ],
      "text/plain": [
       "       Any  Jornada  Partit ID      Data              Local   GL   GV  \\\n",
       "0      1.0      1.0     1001.0  03/09/83    R.C.D. Espanyol  1.0  4.0   \n",
       "1      1.0      1.0     1002.0  03/09/83  Real S. de GijÃ³n  1.0  1.0   \n",
       "2      1.0      1.0     1003.0  03/09/83   Real Murcia C.F.  3.0  1.0   \n",
       "3      1.0      1.0     1004.0  04/09/83    R.C.D. Mallorca  1.0  1.0   \n",
       "4      1.0      1.0     1005.0  04/09/83   C.At. de Osasuna  0.0  0.0   \n",
       "...    ...      ...        ...       ...                ...  ...  ...   \n",
       "8694  23.0     38.0    23377.0  13/05/06    Villarreal C.F.  2.0  0.0   \n",
       "8695  23.0     38.0    23378.0  16/05/06   C.At. de Osasuna  2.0  1.0   \n",
       "8696  23.0     38.0    23379.0  16/05/06       Sevilla F.C.  4.0  3.0   \n",
       "8697  23.0     38.0    23380.0  20/05/06   Ath. Club Bilbao  3.0  1.0   \n",
       "8698   NaN      NaN        NaN       NaN                NaN  NaN  NaN   \n",
       "\n",
       "              Visitant  \n",
       "0        At. de Madrid  \n",
       "1        Valencia C.F.  \n",
       "2        Real Sociedad  \n",
       "3     R. Zaragoza C.D.  \n",
       "4       U.D. Salamanca  \n",
       "...                ...  \n",
       "8694  Real Racing Club  \n",
       "8695     Valencia C.F.  \n",
       "8696  Real Madrid C.F.  \n",
       "8697    F.C. Barcelona  \n",
       "8698               NaN  \n",
       "\n",
       "[8699 rows x 8 columns]"
      ]
     },
     "execution_count": 11,
     "metadata": {},
     "output_type": "execute_result"
    }
   ],
   "source": [
    "dataBase2"
   ]
  },
  {
   "cell_type": "code",
   "execution_count": 12,
   "metadata": {},
   "outputs": [
    {
     "data": {
      "text/plain": [
       "Any          float64\n",
       "Jornada      float64\n",
       "Partit ID    float64\n",
       "Data          object\n",
       "Local         object\n",
       "GL           float64\n",
       "GV           float64\n",
       "Visitant      object\n",
       "dtype: object"
      ]
     },
     "execution_count": 12,
     "metadata": {},
     "output_type": "execute_result"
    }
   ],
   "source": [
    "dataBase2.dtypes"
   ]
  },
  {
   "cell_type": "markdown",
   "metadata": {},
   "source": [
    "### 1.1 Clasificación de Variables"
   ]
  },
  {
   "cell_type": "code",
   "execution_count": null,
   "metadata": {},
   "outputs": [],
   "source": []
  },
  {
   "cell_type": "markdown",
   "metadata": {},
   "source": [
    "### 1.2 Medidas de tendencia central y de dispersión de número total de goles en cada partido"
   ]
  },
  {
   "cell_type": "code",
   "execution_count": null,
   "metadata": {},
   "outputs": [],
   "source": []
  },
  {
   "cell_type": "markdown",
   "metadata": {},
   "source": [
    "### 1.3 Equipo que más goles anotó y que más goles recibió por año"
   ]
  },
  {
   "cell_type": "code",
   "execution_count": null,
   "metadata": {},
   "outputs": [],
   "source": []
  },
  {
   "cell_type": "markdown",
   "metadata": {},
   "source": [
    "### 1.4 Boxplot del número total de goles en cada partido por año"
   ]
  },
  {
   "cell_type": "code",
   "execution_count": null,
   "metadata": {},
   "outputs": [],
   "source": []
  },
  {
   "cell_type": "markdown",
   "metadata": {},
   "source": [
    "### 1.5 Coeficiente de correlación entre 'Goles del Local' y 'Goles del visitante'"
   ]
  },
  {
   "cell_type": "code",
   "execution_count": null,
   "metadata": {},
   "outputs": [],
   "source": []
  }
 ],
 "metadata": {
  "kernelspec": {
   "display_name": "base",
   "language": "python",
   "name": "python3"
  },
  "language_info": {
   "codemirror_mode": {
    "name": "ipython",
    "version": 3
   },
   "file_extension": ".py",
   "mimetype": "text/x-python",
   "name": "python",
   "nbconvert_exporter": "python",
   "pygments_lexer": "ipython3",
   "version": "3.12.7"
  }
 },
 "nbformat": 4,
 "nbformat_minor": 2
}
