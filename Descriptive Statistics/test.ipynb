{
 "cells": [
  {
   "cell_type": "code",
   "execution_count": 6,
   "metadata": {},
   "outputs": [],
   "source": [
    "import pandas as pd # Series, DataFrame, Panel\n",
    "import numpy as np # Matrix, Vector, arrays\n",
    "import matplotlib.pyplot as plt # visualizations (static, animated, interactive)\n",
    "import seaborn as sns # data visualization\n",
    "import statistics as stat\n",
    "\n",
    "pd.set_option('display.float_format', lambda x: '%.3f' % x) # it helps us avoid scientific notation"
   ]
  },
  {
   "cell_type": "markdown",
   "metadata": {},
   "source": [
    "In order to read a file that we have saved on our computer we use pandas. It has the necessary attributes to manage tables."
   ]
  },
  {
   "cell_type": "code",
   "execution_count": null,
   "metadata": {},
   "outputs": [],
   "source": [
    "pd.read_csv('path')"
   ]
  }
 ],
 "metadata": {
  "kernelspec": {
   "display_name": "base",
   "language": "python",
   "name": "python3"
  },
  "language_info": {
   "codemirror_mode": {
    "name": "ipython",
    "version": 3
   },
   "file_extension": ".py",
   "mimetype": "text/x-python",
   "name": "python",
   "nbconvert_exporter": "python",
   "pygments_lexer": "ipython3",
   "version": "3.12.7"
  }
 },
 "nbformat": 4,
 "nbformat_minor": 2
}
